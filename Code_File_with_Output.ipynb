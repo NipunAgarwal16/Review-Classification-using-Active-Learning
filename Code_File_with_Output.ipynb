{
  "nbformat": 4,
  "nbformat_minor": 0,
  "metadata": {
    "colab": {
      "name": "Code File with Output",
      "provenance": [],
      "authorship_tag": "ABX9TyOSmBrC+y/8yD9Ff9O8MXRF"
    },
    "kernelspec": {
      "name": "python3",
      "display_name": "Python 3"
    },
    "language_info": {
      "name": "python"
    }
  },
  "cells": [
    {
      "cell_type": "markdown",
      "source": [
        "## **Setup**"
      ],
      "metadata": {
        "id": "JVHiyQjKzksL"
      }
    },
    {
      "cell_type": "code",
      "execution_count": 1,
      "metadata": {
        "id": "F2soYVrLzclS"
      },
      "outputs": [],
      "source": [
        "import tensorflow_datasets as tfds\n",
        "import tensorflow as tf\n",
        "from tensorflow import keras\n",
        "from tensorflow.keras import layers\n",
        "import matplotlib.pyplot as plt\n",
        "import re\n",
        "import string\n",
        "\n",
        "tfds.disable_progress_bar()"
      ]
    },
    {
      "cell_type": "markdown",
      "source": [
        "## **Loading and preprocessing data**"
      ],
      "metadata": {
        "id": "om71aL2MzqEr"
      }
    },
    {
      "cell_type": "code",
      "source": [
        "dataset = tfds.load(\n",
        "    \"imdb_reviews\",\n",
        "    split=\"train + test\",\n",
        "    as_supervised=True,\n",
        "    batch_size=-1,\n",
        "    shuffle_files=False,\n",
        ")\n",
        "reviews, labels = tfds.as_numpy(dataset)\n",
        "\n",
        "print(\"Total examples:\", reviews.shape[0])"
      ],
      "metadata": {
        "colab": {
          "base_uri": "https://localhost:8080/"
        },
        "id": "sm5pVvZFzrsm",
        "outputId": "00aea4eb-40b2-45ef-c424-2a1b999adf96"
      },
      "execution_count": 2,
      "outputs": [
        {
          "output_type": "stream",
          "name": "stdout",
          "text": [
            "\u001b[1mDownloading and preparing dataset imdb_reviews/plain_text/1.0.0 (download: 80.23 MiB, generated: Unknown size, total: 80.23 MiB) to /root/tensorflow_datasets/imdb_reviews/plain_text/1.0.0...\u001b[0m\n",
            "Shuffling and writing examples to /root/tensorflow_datasets/imdb_reviews/plain_text/1.0.0.incompleteIAIYAB/imdb_reviews-train.tfrecord\n",
            "Shuffling and writing examples to /root/tensorflow_datasets/imdb_reviews/plain_text/1.0.0.incompleteIAIYAB/imdb_reviews-test.tfrecord\n",
            "Shuffling and writing examples to /root/tensorflow_datasets/imdb_reviews/plain_text/1.0.0.incompleteIAIYAB/imdb_reviews-unsupervised.tfrecord\n"
          ]
        },
        {
          "output_type": "stream",
          "name": "stderr",
          "text": [
            "WARNING:absl:Dataset is using deprecated text encoder API which will be removed soon. Please use the plain_text version of the dataset and migrate to `tensorflow_text`.\n"
          ]
        },
        {
          "output_type": "stream",
          "name": "stdout",
          "text": [
            "\u001b[1mDataset imdb_reviews downloaded and prepared to /root/tensorflow_datasets/imdb_reviews/plain_text/1.0.0. Subsequent calls will reuse this data.\u001b[0m\n",
            "WARNING:tensorflow:From /usr/local/lib/python3.7/dist-packages/tensorflow_datasets/core/dataset_builder.py:598: get_single_element (from tensorflow.python.data.experimental.ops.get_single_element) is deprecated and will be removed in a future version.\n",
            "Instructions for updating:\n",
            "Use `tf.data.Dataset.get_single_element()`.\n"
          ]
        },
        {
          "output_type": "stream",
          "name": "stderr",
          "text": [
            "WARNING:tensorflow:From /usr/local/lib/python3.7/dist-packages/tensorflow_datasets/core/dataset_builder.py:598: get_single_element (from tensorflow.python.data.experimental.ops.get_single_element) is deprecated and will be removed in a future version.\n",
            "Instructions for updating:\n",
            "Use `tf.data.Dataset.get_single_element()`.\n"
          ]
        },
        {
          "output_type": "stream",
          "name": "stdout",
          "text": [
            "Total examples: 50000\n"
          ]
        }
      ]
    },
    {
      "cell_type": "markdown",
      "source": [
        "**Setting training, validation and testing splits**"
      ],
      "metadata": {
        "id": "4pr49z5az0K8"
      }
    },
    {
      "cell_type": "code",
      "source": [
        "val_split = 2500\n",
        "test_split = 2500\n",
        "train_split = 7500\n",
        "\n",
        "# Separating the negative and positive samples for manual stratification\n",
        "x_positives, y_positives = reviews[labels == 1], labels[labels == 1]\n",
        "x_negatives, y_negatives = reviews[labels == 0], labels[labels == 0]\n",
        "\n",
        "# Creating training, validation and testing splits\n",
        "x_val, y_val = (\n",
        "    tf.concat((x_positives[:val_split], x_negatives[:val_split]), 0),\n",
        "    tf.concat((y_positives[:val_split], y_negatives[:val_split]), 0),\n",
        ")\n",
        "x_test, y_test = (\n",
        "    tf.concat(\n",
        "        (\n",
        "            x_positives[val_split : val_split + test_split],\n",
        "            x_negatives[val_split : val_split + test_split],\n",
        "        ),\n",
        "        0,\n",
        "    ),\n",
        "    tf.concat(\n",
        "        (\n",
        "            y_positives[val_split : val_split + test_split],\n",
        "            y_negatives[val_split : val_split + test_split],\n",
        "        ),\n",
        "        0,\n",
        "    ),\n",
        ")\n",
        "x_train, y_train = (\n",
        "    tf.concat(\n",
        "        (\n",
        "            x_positives[val_split + test_split : val_split + test_split + train_split],\n",
        "            x_negatives[val_split + test_split : val_split + test_split + train_split],\n",
        "        ),\n",
        "        0,\n",
        "    ),\n",
        "    tf.concat(\n",
        "        (\n",
        "            y_positives[val_split + test_split : val_split + test_split + train_split],\n",
        "            y_negatives[val_split + test_split : val_split + test_split + train_split],\n",
        "        ),\n",
        "        0,\n",
        "    ),\n",
        ")\n",
        "\n",
        "# Remaining pool of samples are stored separately. These are only labeled as and when required\n",
        "x_pool_positives, y_pool_positives = (\n",
        "    x_positives[val_split + test_split + train_split :],\n",
        "    y_positives[val_split + test_split + train_split :],\n",
        ")\n",
        "x_pool_negatives, y_pool_negatives = (\n",
        "    x_negatives[val_split + test_split + train_split :],\n",
        "    y_negatives[val_split + test_split + train_split :],\n",
        ")\n",
        "\n",
        "# Creating TF Datasets for faster prefetching and parallelization\n",
        "train_dataset = tf.data.Dataset.from_tensor_slices((x_train, y_train))\n",
        "val_dataset = tf.data.Dataset.from_tensor_slices((x_val, y_val))\n",
        "test_dataset = tf.data.Dataset.from_tensor_slices((x_test, y_test))\n",
        "\n",
        "pool_negatives = tf.data.Dataset.from_tensor_slices(\n",
        "    (x_pool_negatives, y_pool_negatives)\n",
        ")\n",
        "pool_positives = tf.data.Dataset.from_tensor_slices(\n",
        "    (x_pool_positives, y_pool_positives)\n",
        ")\n",
        "\n",
        "print(f\"Initial training set size: {len(train_dataset)}\")\n",
        "print(f\"Validation set size: {len(val_dataset)}\")\n",
        "print(f\"Testing set size: {len(test_dataset)}\")\n",
        "print(f\"Unlabeled negative pool: {len(pool_negatives)}\")\n",
        "print(f\"Unlabeled positive pool: {len(pool_positives)}\")"
      ],
      "metadata": {
        "colab": {
          "base_uri": "https://localhost:8080/"
        },
        "id": "GxJfL6AOz539",
        "outputId": "0ff3c662-19f8-4a3f-e947-ff5c08618448"
      },
      "execution_count": 3,
      "outputs": [
        {
          "output_type": "stream",
          "name": "stdout",
          "text": [
            "Initial training set size: 15000\n",
            "Validation set size: 5000\n",
            "Testing set size: 5000\n",
            "Unlabeled negative pool: 12500\n",
            "Unlabeled positive pool: 12500\n"
          ]
        }
      ]
    },
    {
      "cell_type": "markdown",
      "source": [
        "**Fitting TextVectorization layer**"
      ],
      "metadata": {
        "id": "XZczASGWz-i7"
      }
    },
    {
      "cell_type": "code",
      "source": [
        "def custom_standardization(input_data):\n",
        "    lowercase = tf.strings.lower(input_data)\n",
        "    stripped_html = tf.strings.regex_replace(lowercase, \"<br />\", \" \")\n",
        "    return tf.strings.regex_replace(\n",
        "        stripped_html, f\"[{re.escape(string.punctuation)}]\", \"\"\n",
        "    )\n",
        "\n",
        "\n",
        "vectorizer = layers.TextVectorization(\n",
        "    3000, standardize=custom_standardization, output_sequence_length=150\n",
        ")\n",
        "# Adapting the dataset\n",
        "vectorizer.adapt(\n",
        "    train_dataset.map(lambda x, y: x, num_parallel_calls=tf.data.AUTOTUNE).batch(256)\n",
        ")\n",
        "\n",
        "\n",
        "def vectorize_text(text, label):\n",
        "    text = vectorizer(text)\n",
        "    return text, label\n",
        "\n",
        "\n",
        "train_dataset = train_dataset.map(\n",
        "    vectorize_text, num_parallel_calls=tf.data.AUTOTUNE\n",
        ").prefetch(tf.data.AUTOTUNE)\n",
        "pool_negatives = pool_negatives.map(vectorize_text, num_parallel_calls=tf.data.AUTOTUNE)\n",
        "pool_positives = pool_positives.map(vectorize_text, num_parallel_calls=tf.data.AUTOTUNE)\n",
        "\n",
        "val_dataset = val_dataset.batch(256).map(\n",
        "    vectorize_text, num_parallel_calls=tf.data.AUTOTUNE\n",
        ")\n",
        "test_dataset = test_dataset.batch(256).map(\n",
        "    vectorize_text, num_parallel_calls=tf.data.AUTOTUNE\n",
        ")"
      ],
      "metadata": {
        "id": "81Y3vT-Fz_-L"
      },
      "execution_count": 4,
      "outputs": []
    },
    {
      "cell_type": "markdown",
      "source": [
        "## **Creating Helper Functions**"
      ],
      "metadata": {
        "id": "CcvWG0PH0B6N"
      }
    },
    {
      "cell_type": "code",
      "source": [
        "# Helper function for merging new history objects with older ones\n",
        "def append_history(losses, val_losses, accuracy, val_accuracy, history):\n",
        "    losses = losses + history.history[\"loss\"]\n",
        "    val_losses = val_losses + history.history[\"val_loss\"]\n",
        "    accuracy = accuracy + history.history[\"binary_accuracy\"]\n",
        "    val_accuracy = val_accuracy + history.history[\"val_binary_accuracy\"]\n",
        "    return losses, val_losses, accuracy, val_accuracy\n",
        "\n",
        "\n",
        "# Plotter function\n",
        "def plot_history(losses, val_losses, accuracies, val_accuracies):\n",
        "    plt.plot(losses)\n",
        "    plt.plot(val_losses)\n",
        "    plt.legend([\"train_loss\", \"val_loss\"])\n",
        "    plt.xlabel(\"Epochs\")\n",
        "    plt.ylabel(\"Loss\")\n",
        "    plt.show()\n",
        "\n",
        "    plt.plot(accuracies)\n",
        "    plt.plot(val_accuracies)\n",
        "    plt.legend([\"train_accuracy\", \"val_accuracy\"])\n",
        "    plt.xlabel(\"Epochs\")\n",
        "    plt.ylabel(\"Accuracy\")\n",
        "    plt.show()"
      ],
      "metadata": {
        "id": "JG73HSFz0CuL"
      },
      "execution_count": 5,
      "outputs": []
    },
    {
      "cell_type": "markdown",
      "source": [
        "## **Creating Model**"
      ],
      "metadata": {
        "id": "Ma3zq7170FQs"
      }
    },
    {
      "cell_type": "code",
      "source": [
        "def create_model():\n",
        "    model = keras.models.Sequential(\n",
        "        [\n",
        "            layers.Input(shape=(150,)),\n",
        "            layers.Embedding(input_dim=3000, output_dim=128),\n",
        "            layers.Bidirectional(layers.LSTM(32, return_sequences=True)),\n",
        "            layers.GlobalMaxPool1D(),\n",
        "            layers.Dense(20, activation=\"relu\"),\n",
        "            layers.Dropout(0.5),\n",
        "            layers.Dense(1, activation=\"sigmoid\"),\n",
        "        ]\n",
        "    )\n",
        "    model.summary()\n",
        "    return model"
      ],
      "metadata": {
        "id": "lBjswePR0Gmv"
      },
      "execution_count": 6,
      "outputs": []
    },
    {
      "cell_type": "markdown",
      "source": [
        "## **Training on the entire dataset**"
      ],
      "metadata": {
        "id": "08QonjB70I0F"
      }
    },
    {
      "cell_type": "code",
      "source": [
        "def train_full_model(full_train_dataset, val_dataset, test_dataset):\n",
        "    model = create_model()\n",
        "    model.compile(\n",
        "        loss=\"binary_crossentropy\",\n",
        "        optimizer=\"rmsprop\",\n",
        "        metrics=[\n",
        "            keras.metrics.BinaryAccuracy(),\n",
        "            keras.metrics.FalseNegatives(),\n",
        "            keras.metrics.FalsePositives(),\n",
        "        ],\n",
        "    )\n",
        "\n",
        "    # We will save the best model at every epoch and load the best one for evaluation on the test set\n",
        "    history = model.fit(\n",
        "        full_train_dataset.batch(256),\n",
        "        epochs=20,\n",
        "        validation_data=val_dataset,\n",
        "        callbacks=[\n",
        "            keras.callbacks.EarlyStopping(patience=4, verbose=1),\n",
        "            keras.callbacks.ModelCheckpoint(\n",
        "                \"FullModelCheckpoint.h5\", verbose=1, save_best_only=True\n",
        "            ),\n",
        "        ],\n",
        "    )\n",
        "\n",
        "    # Plot history\n",
        "    plot_history(\n",
        "        history.history[\"loss\"],\n",
        "        history.history[\"val_loss\"],\n",
        "        history.history[\"binary_accuracy\"],\n",
        "        history.history[\"val_binary_accuracy\"],\n",
        "    )\n",
        "\n",
        "    # Loading the best checkpoint\n",
        "    model = keras.models.load_model(\"FullModelCheckpoint.h5\")\n",
        "\n",
        "    print(\"-\" * 100)\n",
        "    print(\n",
        "        \"Test set evaluation: \",\n",
        "        model.evaluate(test_dataset, verbose=0, return_dict=True),\n",
        "    )\n",
        "    print(\"-\" * 100)\n",
        "    return model\n",
        "\n",
        "\n",
        "# Sampling the full train dataset to train on\n",
        "full_train_dataset = (\n",
        "    train_dataset.concatenate(pool_positives)\n",
        "    .concatenate(pool_negatives)\n",
        "    .cache()\n",
        "    .shuffle(20000)\n",
        ")\n",
        "\n",
        "# Training the full model\n",
        "full_dataset_model = train_full_model(full_train_dataset, val_dataset, test_dataset)"
      ],
      "metadata": {
        "colab": {
          "base_uri": "https://localhost:8080/",
          "height": 1000
        },
        "id": "2B23CfGd0JwM",
        "outputId": "28badb45-a6f0-410b-cdde-2629ac6b1e3b"
      },
      "execution_count": 7,
      "outputs": [
        {
          "output_type": "stream",
          "name": "stdout",
          "text": [
            "Model: \"sequential\"\n",
            "_________________________________________________________________\n",
            " Layer (type)                Output Shape              Param #   \n",
            "=================================================================\n",
            " embedding (Embedding)       (None, 150, 128)          384000    \n",
            "                                                                 \n",
            " bidirectional (Bidirectiona  (None, 150, 64)          41216     \n",
            " l)                                                              \n",
            "                                                                 \n",
            " global_max_pooling1d (Globa  (None, 64)               0         \n",
            " lMaxPooling1D)                                                  \n",
            "                                                                 \n",
            " dense (Dense)               (None, 20)                1300      \n",
            "                                                                 \n",
            " dropout (Dropout)           (None, 20)                0         \n",
            "                                                                 \n",
            " dense_1 (Dense)             (None, 1)                 21        \n",
            "                                                                 \n",
            "=================================================================\n",
            "Total params: 426,537\n",
            "Trainable params: 426,537\n",
            "Non-trainable params: 0\n",
            "_________________________________________________________________\n",
            "Epoch 1/20\n",
            "157/157 [==============================] - ETA: 0s - loss: 0.5119 - binary_accuracy: 0.7674 - false_negatives: 3005.0000 - false_positives: 6297.0000\n",
            "Epoch 00001: val_loss improved from inf to 0.34892, saving model to FullModelCheckpoint.h5\n",
            "157/157 [==============================] - 88s 513ms/step - loss: 0.5119 - binary_accuracy: 0.7674 - false_negatives: 3005.0000 - false_positives: 6297.0000 - val_loss: 0.3489 - val_binary_accuracy: 0.8514 - val_false_negatives: 434.0000 - val_false_positives: 309.0000\n",
            "Epoch 2/20\n",
            "157/157 [==============================] - ETA: 0s - loss: 0.3585 - binary_accuracy: 0.8553 - false_negatives: 2848.0000 - false_positives: 2940.0000\n",
            "Epoch 00002: val_loss improved from 0.34892 to 0.33010, saving model to FullModelCheckpoint.h5\n",
            "157/157 [==============================] - 75s 477ms/step - loss: 0.3585 - binary_accuracy: 0.8553 - false_negatives: 2848.0000 - false_positives: 2940.0000 - val_loss: 0.3301 - val_binary_accuracy: 0.8582 - val_false_negatives: 435.0000 - val_false_positives: 274.0000\n",
            "Epoch 3/20\n",
            "157/157 [==============================] - ETA: 0s - loss: 0.3204 - binary_accuracy: 0.8708 - false_negatives: 2520.0000 - false_positives: 2650.0000\n",
            "Epoch 00003: val_loss improved from 0.33010 to 0.32405, saving model to FullModelCheckpoint.h5\n",
            "157/157 [==============================] - 75s 479ms/step - loss: 0.3204 - binary_accuracy: 0.8708 - false_negatives: 2520.0000 - false_positives: 2650.0000 - val_loss: 0.3240 - val_binary_accuracy: 0.8588 - val_false_negatives: 434.0000 - val_false_positives: 272.0000\n",
            "Epoch 4/20\n",
            "157/157 [==============================] - ETA: 0s - loss: 0.3008 - binary_accuracy: 0.8791 - false_negatives: 2426.0000 - false_positives: 2409.0000\n",
            "Epoch 00004: val_loss did not improve from 0.32405\n",
            "157/157 [==============================] - 76s 481ms/step - loss: 0.3008 - binary_accuracy: 0.8791 - false_negatives: 2426.0000 - false_positives: 2409.0000 - val_loss: 0.3828 - val_binary_accuracy: 0.8310 - val_false_negatives: 714.0000 - val_false_positives: 131.0000\n",
            "Epoch 5/20\n",
            "157/157 [==============================] - ETA: 0s - loss: 0.2847 - binary_accuracy: 0.8886 - false_negatives: 2291.0000 - false_positives: 2166.0000\n",
            "Epoch 00005: val_loss did not improve from 0.32405\n",
            "157/157 [==============================] - 76s 481ms/step - loss: 0.2847 - binary_accuracy: 0.8886 - false_negatives: 2291.0000 - false_positives: 2166.0000 - val_loss: 0.3262 - val_binary_accuracy: 0.8546 - val_false_negatives: 251.0000 - val_false_positives: 476.0000\n",
            "Epoch 6/20\n",
            "157/157 [==============================] - ETA: 0s - loss: 0.2711 - binary_accuracy: 0.8953 - false_negatives: 2116.0000 - false_positives: 2071.0000\n",
            "Epoch 00006: val_loss improved from 0.32405 to 0.31867, saving model to FullModelCheckpoint.h5\n",
            "157/157 [==============================] - 75s 477ms/step - loss: 0.2711 - binary_accuracy: 0.8953 - false_negatives: 2116.0000 - false_positives: 2071.0000 - val_loss: 0.3187 - val_binary_accuracy: 0.8580 - val_false_negatives: 367.0000 - val_false_positives: 343.0000\n",
            "Epoch 7/20\n",
            "157/157 [==============================] - ETA: 0s - loss: 0.2564 - binary_accuracy: 0.9003 - false_negatives: 2036.0000 - false_positives: 1950.0000\n",
            "Epoch 00007: val_loss did not improve from 0.31867\n",
            "157/157 [==============================] - 75s 477ms/step - loss: 0.2564 - binary_accuracy: 0.9003 - false_negatives: 2036.0000 - false_positives: 1950.0000 - val_loss: 0.3555 - val_binary_accuracy: 0.8480 - val_false_negatives: 593.0000 - val_false_positives: 167.0000\n",
            "Epoch 8/20\n",
            "157/157 [==============================] - ETA: 0s - loss: 0.2418 - binary_accuracy: 0.9071 - false_negatives: 1929.0000 - false_positives: 1789.0000\n",
            "Epoch 00008: val_loss did not improve from 0.31867\n",
            "157/157 [==============================] - 75s 479ms/step - loss: 0.2418 - binary_accuracy: 0.9071 - false_negatives: 1929.0000 - false_positives: 1789.0000 - val_loss: 0.3601 - val_binary_accuracy: 0.8488 - val_false_negatives: 556.0000 - val_false_positives: 200.0000\n",
            "Epoch 9/20\n",
            "157/157 [==============================] - ETA: 0s - loss: 0.2276 - binary_accuracy: 0.9136 - false_negatives: 1797.0000 - false_positives: 1661.0000\n",
            "Epoch 00009: val_loss did not improve from 0.31867\n",
            "157/157 [==============================] - 76s 481ms/step - loss: 0.2276 - binary_accuracy: 0.9136 - false_negatives: 1797.0000 - false_positives: 1661.0000 - val_loss: 0.3728 - val_binary_accuracy: 0.8478 - val_false_negatives: 542.0000 - val_false_positives: 219.0000\n",
            "Epoch 10/20\n",
            "157/157 [==============================] - ETA: 0s - loss: 0.2192 - binary_accuracy: 0.9190 - false_negatives: 1706.0000 - false_positives: 1534.0000\n",
            "Epoch 00010: val_loss did not improve from 0.31867\n",
            "157/157 [==============================] - 76s 482ms/step - loss: 0.2192 - binary_accuracy: 0.9190 - false_negatives: 1706.0000 - false_positives: 1534.0000 - val_loss: 0.4212 - val_binary_accuracy: 0.8384 - val_false_negatives: 637.0000 - val_false_positives: 171.0000\n",
            "Epoch 00010: early stopping\n"
          ]
        },
        {
          "output_type": "display_data",
          "data": {
            "image/png": "[encoded data removed]",
            "text/plain": [
              "<Figure size 432x288 with 1 Axes>"
            ]
          },
          "metadata": {
            "needs_background": "light"
          }
        },
        {
          "output_type": "display_data",
          "data": {
            "image/png": "[encoded data removed]",
            "text/plain": [
              "<Figure size 432x288 with 1 Axes>"
            ]
          },
          "metadata": {
            "needs_background": "light"
          }
        },
        {
          "output_type": "stream",
          "name": "stdout",
          "text": [
            "----------------------------------------------------------------------------------------------------\n",
            "Test set evaluation:  {'loss': 0.32800665497779846, 'binary_accuracy': 0.8614000082015991, 'false_negatives': 360.0, 'false_positives': 333.0}\n",
            "----------------------------------------------------------------------------------------------------\n"
          ]
        }
      ]
    },
    {
      "cell_type": "markdown",
      "source": [
        "## **Training via Active Learning**"
      ],
      "metadata": {
        "id": "PIFV022y0dKe"
      }
    },
    {
      "cell_type": "code",
      "source": [
        "def train_active_learning_models(\n",
        "    train_dataset,\n",
        "    pool_negatives,\n",
        "    pool_positives,\n",
        "    val_dataset,\n",
        "    test_dataset,\n",
        "    num_iterations=3,\n",
        "    sampling_size=5000,\n",
        "):\n",
        "\n",
        "    # Creating lists for storing metrics\n",
        "    losses, val_losses, accuracies, val_accuracies = [], [], [], []\n",
        "\n",
        "    model = create_model()\n",
        "    # We will monitor the false positives and false negatives predicted by our model\n",
        "    # These will decide the subsequent sampling ratio for every Active Learning loop\n",
        "    model.compile(\n",
        "        loss=\"binary_crossentropy\",\n",
        "        optimizer=\"rmsprop\",\n",
        "        metrics=[\n",
        "            keras.metrics.BinaryAccuracy(),\n",
        "            keras.metrics.FalseNegatives(),\n",
        "            keras.metrics.FalsePositives(),\n",
        "        ],\n",
        "    )\n",
        "\n",
        "    # Defining checkpoints.\n",
        "    # The checkpoint callback is reused throughout the training since it only saves the best overall model.\n",
        "    checkpoint = keras.callbacks.ModelCheckpoint(\n",
        "        \"AL_Model.h5\", save_best_only=True, verbose=1\n",
        "    )\n",
        "    # Here, patience is set to 4. This can be set higher if desired.\n",
        "    early_stopping = keras.callbacks.EarlyStopping(patience=4, verbose=1)\n",
        "\n",
        "    print(f\"Starting to train with {len(train_dataset)} samples\")\n",
        "    # Initial fit with a small subset of the training set\n",
        "    history = model.fit(\n",
        "        train_dataset.cache().shuffle(20000).batch(256),\n",
        "        epochs=20,\n",
        "        validation_data=val_dataset,\n",
        "        callbacks=[checkpoint, early_stopping],\n",
        "    )\n",
        "\n",
        "    # Appending history\n",
        "    losses, val_losses, accuracies, val_accuracies = append_history(\n",
        "        losses, val_losses, accuracies, val_accuracies, history\n",
        "    )\n",
        "\n",
        "    for iteration in range(num_iterations):\n",
        "        # Getting predictions from previously trained model\n",
        "        predictions = model.predict(test_dataset)\n",
        "\n",
        "        # Generating labels from the output probabilities\n",
        "        rounded = tf.where(tf.greater(predictions, 0.5), 1, 0)\n",
        "\n",
        "        # Evaluating the number of zeros and ones incorrrectly classified\n",
        "        _, _, false_negatives, false_positives = model.evaluate(test_dataset, verbose=0)\n",
        "\n",
        "        print(\"-\" * 100)\n",
        "        print(\n",
        "            f\"Number of zeros incorrectly classified: {false_negatives}, Number of ones incorrectly classified: {false_positives}\"\n",
        "        )\n",
        "\n",
        "        # This technique of Active Learning demonstrates ratio based sampling where\n",
        "        # Number of ones/zeros to sample = Number of ones/zeros incorrectly classified / Total incorrectly classified\n",
        "        if false_negatives != 0 and false_positives != 0:\n",
        "            total = false_negatives + false_positives\n",
        "            sample_ratio_ones, sample_ratio_zeros = (\n",
        "                false_positives / total,\n",
        "                false_negatives / total,\n",
        "            )\n",
        "        # In the case where all samples are correctly predicted, we can sample both classes equally\n",
        "        else:\n",
        "            sample_ratio_ones, sample_ratio_zeros = 0.5, 0.5\n",
        "\n",
        "        print(\n",
        "            f\"Sample ratio for positives: {sample_ratio_ones}, Sample ratio for negatives:{sample_ratio_zeros}\"\n",
        "        )\n",
        "\n",
        "        # Sample the required number of ones and zeros\n",
        "        sampled_dataset = pool_negatives.take(\n",
        "            int(sample_ratio_zeros * sampling_size)\n",
        "        ).concatenate(pool_positives.take(int(sample_ratio_ones * sampling_size)))\n",
        "\n",
        "        # Skip the sampled data points to avoid repetition of sample\n",
        "        pool_negatives = pool_negatives.skip(int(sample_ratio_zeros * sampling_size))\n",
        "        pool_positives = pool_positives.skip(int(sample_ratio_ones * sampling_size))\n",
        "\n",
        "        # Concatenating the train_dataset with the sampled_dataset\n",
        "        train_dataset = train_dataset.concatenate(sampled_dataset).prefetch(\n",
        "            tf.data.AUTOTUNE\n",
        "        )\n",
        "\n",
        "        print(f\"Starting training with {len(train_dataset)} samples\")\n",
        "        print(\"-\" * 100)\n",
        "\n",
        "        # We recompile the model to reset the optimizer states and retrain the model\n",
        "        model.compile(\n",
        "            loss=\"binary_crossentropy\",\n",
        "            optimizer=\"rmsprop\",\n",
        "            metrics=[\n",
        "                keras.metrics.BinaryAccuracy(),\n",
        "                keras.metrics.FalseNegatives(),\n",
        "                keras.metrics.FalsePositives(),\n",
        "            ],\n",
        "        )\n",
        "        history = model.fit(\n",
        "            train_dataset.cache().shuffle(20000).batch(256),\n",
        "            validation_data=val_dataset,\n",
        "            epochs=20,\n",
        "            callbacks=[\n",
        "                checkpoint,\n",
        "                keras.callbacks.EarlyStopping(patience=4, verbose=1),\n",
        "            ],\n",
        "        )\n",
        "\n",
        "        # Appending the history\n",
        "        losses, val_losses, accuracies, val_accuracies = append_history(\n",
        "            losses, val_losses, accuracies, val_accuracies, history\n",
        "        )\n",
        "\n",
        "        # Loading the best model from this training loop\n",
        "        model = keras.models.load_model(\"AL_Model.h5\")\n",
        "\n",
        "    # Plotting the overall history and evaluating the final model\n",
        "    plot_history(losses, val_losses, accuracies, val_accuracies)\n",
        "    print(\"-\" * 100)\n",
        "    print(\n",
        "        \"Test set evaluation: \",\n",
        "        model.evaluate(test_dataset, verbose=0, return_dict=True),\n",
        "    )\n",
        "    print(\"-\" * 100)\n",
        "\n",
        "    return model\n",
        "\n",
        "\n",
        "active_learning_model = train_active_learning_models(\n",
        "    train_dataset, pool_negatives, pool_positives, val_dataset, test_dataset\n",
        ")"
      ],
      "metadata": {
        "colab": {
          "base_uri": "https://localhost:8080/",
          "height": 1000
        },
        "id": "5n5kb2Ji0d9_",
        "outputId": "969d51da-f140-44cf-d58b-c80a74ca4e4d"
      },
      "execution_count": 8,
      "outputs": [
        {
          "output_type": "stream",
          "name": "stdout",
          "text": [
            "Model: \"sequential_1\"\n",
            "_________________________________________________________________\n",
            " Layer (type)                Output Shape              Param #   \n",
            "=================================================================\n",
            " embedding_1 (Embedding)     (None, 150, 128)          384000    \n",
            "                                                                 \n",
            " bidirectional_1 (Bidirectio  (None, 150, 64)          41216     \n",
            " nal)                                                            \n",
            "                                                                 \n",
            " global_max_pooling1d_1 (Glo  (None, 64)               0         \n",
            " balMaxPooling1D)                                                \n",
            "                                                                 \n",
            " dense_2 (Dense)             (None, 20)                1300      \n",
            "                                                                 \n",
            " dropout_1 (Dropout)         (None, 20)                0         \n",
            "                                                                 \n",
            " dense_3 (Dense)             (None, 1)                 21        \n",
            "                                                                 \n",
            "=================================================================\n",
            "Total params: 426,537\n",
            "Trainable params: 426,537\n",
            "Non-trainable params: 0\n",
            "_________________________________________________________________\n",
            "Starting to train with 15000 samples\n",
            "Epoch 1/20\n",
            "59/59 [==============================] - ETA: 0s - loss: 0.6321 - binary_accuracy: 0.6491 - false_negatives_1: 2792.0000 - false_positives_1: 2471.0000\n",
            "Epoch 00001: val_loss improved from inf to 0.44034, saving model to AL_Model.h5\n",
            "59/59 [==============================] - 37s 535ms/step - loss: 0.6321 - binary_accuracy: 0.6491 - false_negatives_1: 2792.0000 - false_positives_1: 2471.0000 - val_loss: 0.4403 - val_binary_accuracy: 0.8230 - val_false_negatives_1: 407.0000 - val_false_positives_1: 478.0000\n",
            "Epoch 2/20\n",
            "59/59 [==============================] - ETA: 0s - loss: 0.4446 - binary_accuracy: 0.8163 - false_negatives_1: 1426.0000 - false_positives_1: 1330.0000\n",
            "Epoch 00002: val_loss improved from 0.44034 to 0.37127, saving model to AL_Model.h5\n",
            "59/59 [==============================] - 30s 513ms/step - loss: 0.4446 - binary_accuracy: 0.8163 - false_negatives_1: 1426.0000 - false_positives_1: 1330.0000 - val_loss: 0.3713 - val_binary_accuracy: 0.8402 - val_false_negatives_1: 426.0000 - val_false_positives_1: 373.0000\n",
            "Epoch 3/20\n",
            "59/59 [==============================] - ETA: 0s - loss: 0.3762 - binary_accuracy: 0.8472 - false_negatives_1: 1101.0000 - false_positives_1: 1191.0000\n",
            "Epoch 00003: val_loss improved from 0.37127 to 0.36150, saving model to AL_Model.h5\n",
            "59/59 [==============================] - 30s 515ms/step - loss: 0.3762 - binary_accuracy: 0.8472 - false_negatives_1: 1101.0000 - false_positives_1: 1191.0000 - val_loss: 0.3615 - val_binary_accuracy: 0.8478 - val_false_negatives_1: 375.0000 - val_false_positives_1: 386.0000\n",
            "Epoch 4/20\n",
            "59/59 [==============================] - ETA: 0s - loss: 0.3370 - binary_accuracy: 0.8679 - false_negatives_1: 917.0000 - false_positives_1: 1065.0000\n",
            "Epoch 00004: val_loss improved from 0.36150 to 0.34890, saving model to AL_Model.h5\n",
            "59/59 [==============================] - 30s 513ms/step - loss: 0.3370 - binary_accuracy: 0.8679 - false_negatives_1: 917.0000 - false_positives_1: 1065.0000 - val_loss: 0.3489 - val_binary_accuracy: 0.8518 - val_false_negatives_1: 308.0000 - val_false_positives_1: 433.0000\n",
            "Epoch 5/20\n",
            "59/59 [==============================] - ETA: 0s - loss: 0.3157 - binary_accuracy: 0.8813 - false_negatives_1: 844.0000 - false_positives_1: 937.0000\n",
            "Epoch 00005: val_loss did not improve from 0.34890\n",
            "59/59 [==============================] - 31s 519ms/step - loss: 0.3157 - binary_accuracy: 0.8813 - false_negatives_1: 844.0000 - false_positives_1: 937.0000 - val_loss: 0.3795 - val_binary_accuracy: 0.8348 - val_false_negatives_1: 612.0000 - val_false_positives_1: 214.0000\n",
            "Epoch 6/20\n",
            "59/59 [==============================] - ETA: 0s - loss: 0.2935 - binary_accuracy: 0.8893 - false_negatives_1: 783.0000 - false_positives_1: 877.0000\n",
            "Epoch 00006: val_loss did not improve from 0.34890\n",
            "59/59 [==============================] - 30s 512ms/step - loss: 0.2935 - binary_accuracy: 0.8893 - false_negatives_1: 783.0000 - false_positives_1: 877.0000 - val_loss: 0.3816 - val_binary_accuracy: 0.8334 - val_false_negatives_1: 597.0000 - val_false_positives_1: 236.0000\n",
            "Epoch 7/20\n",
            "59/59 [==============================] - ETA: 0s - loss: 0.2686 - binary_accuracy: 0.8987 - false_negatives_1: 712.0000 - false_positives_1: 807.0000\n",
            "Epoch 00007: val_loss did not improve from 0.34890\n",
            "59/59 [==============================] - 30s 513ms/step - loss: 0.2686 - binary_accuracy: 0.8987 - false_negatives_1: 712.0000 - false_positives_1: 807.0000 - val_loss: 0.3665 - val_binary_accuracy: 0.8440 - val_false_negatives_1: 454.0000 - val_false_positives_1: 326.0000\n",
            "Epoch 8/20\n",
            "59/59 [==============================] - ETA: 0s - loss: 0.2503 - binary_accuracy: 0.9075 - false_negatives_1: 676.0000 - false_positives_1: 711.0000\n",
            "Epoch 00008: val_loss did not improve from 0.34890\n",
            "59/59 [==============================] - 31s 518ms/step - loss: 0.2503 - binary_accuracy: 0.9075 - false_negatives_1: 676.0000 - false_positives_1: 711.0000 - val_loss: 0.3948 - val_binary_accuracy: 0.8388 - val_false_negatives_1: 471.0000 - val_false_positives_1: 335.0000\n",
            "Epoch 00008: early stopping\n",
            "----------------------------------------------------------------------------------------------------\n",
            "Number of zeros incorrectly classified: 518.0, Number of ones incorrectly classified: 325.0\n",
            "Sample ratio for positives: 0.38552787663107946, Sample ratio for negatives:0.6144721233689205\n",
            "Starting training with 19999 samples\n",
            "----------------------------------------------------------------------------------------------------\n",
            "Epoch 1/20\n",
            "79/79 [==============================] - ETA: 0s - loss: 0.2937 - binary_accuracy: 0.8885 - false_negatives_2: 1090.0000 - false_positives_2: 1139.0000\n",
            "Epoch 00001: val_loss did not improve from 0.34890\n",
            "79/79 [==============================] - 48s 511ms/step - loss: 0.2937 - binary_accuracy: 0.8885 - false_negatives_2: 1090.0000 - false_positives_2: 1139.0000 - val_loss: 0.5191 - val_binary_accuracy: 0.7958 - val_false_negatives_2: 892.0000 - val_false_positives_2: 129.0000\n",
            "Epoch 2/20\n",
            "79/79 [==============================] - ETA: 0s - loss: 0.2611 - binary_accuracy: 0.9008 - false_negatives_2: 1000.0000 - false_positives_2: 984.0000\n",
            "Epoch 00002: val_loss did not improve from 0.34890\n",
            "79/79 [==============================] - 39s 498ms/step - loss: 0.2611 - binary_accuracy: 0.9008 - false_negatives_2: 1000.0000 - false_positives_2: 984.0000 - val_loss: 0.4332 - val_binary_accuracy: 0.8250 - val_false_negatives_2: 175.0000 - val_false_positives_2: 700.0000\n",
            "Epoch 3/20\n",
            "79/79 [==============================] - ETA: 0s - loss: 0.2466 - binary_accuracy: 0.9086 - false_negatives_2: 887.0000 - false_positives_2: 941.0000\n",
            "Epoch 00003: val_loss did not improve from 0.34890\n",
            "79/79 [==============================] - 39s 498ms/step - loss: 0.2466 - binary_accuracy: 0.9086 - false_negatives_2: 887.0000 - false_positives_2: 941.0000 - val_loss: 0.3889 - val_binary_accuracy: 0.8412 - val_false_negatives_2: 250.0000 - val_false_positives_2: 544.0000\n",
            "Epoch 4/20\n",
            "79/79 [==============================] - ETA: 0s - loss: 0.2264 - binary_accuracy: 0.9173 - false_negatives_2: 838.0000 - false_positives_2: 816.0000\n",
            "Epoch 00004: val_loss did not improve from 0.34890\n",
            "79/79 [==============================] - 39s 497ms/step - loss: 0.2264 - binary_accuracy: 0.9173 - false_negatives_2: 838.0000 - false_positives_2: 816.0000 - val_loss: 0.4964 - val_binary_accuracy: 0.8180 - val_false_negatives_2: 712.0000 - val_false_positives_2: 198.0000\n",
            "Epoch 5/20\n",
            "79/79 [==============================] - ETA: 0s - loss: 0.2145 - binary_accuracy: 0.9240 - false_negatives_2: 774.0000 - false_positives_2: 746.0000\n",
            "Epoch 00005: val_loss did not improve from 0.34890\n",
            "79/79 [==============================] - 39s 500ms/step - loss: 0.2145 - binary_accuracy: 0.9240 - false_negatives_2: 774.0000 - false_positives_2: 746.0000 - val_loss: 0.4201 - val_binary_accuracy: 0.8396 - val_false_negatives_2: 410.0000 - val_false_positives_2: 392.0000\n",
            "Epoch 6/20\n",
            "79/79 [==============================] - ETA: 0s - loss: 0.1949 - binary_accuracy: 0.9313 - false_negatives_2: 711.0000 - false_positives_2: 663.0000\n",
            "Epoch 00006: val_loss did not improve from 0.34890\n",
            "79/79 [==============================] - 40s 500ms/step - loss: 0.1949 - binary_accuracy: 0.9313 - false_negatives_2: 711.0000 - false_positives_2: 663.0000 - val_loss: 0.4389 - val_binary_accuracy: 0.8382 - val_false_negatives_2: 315.0000 - val_false_positives_2: 494.0000\n",
            "Epoch 7/20\n",
            "79/79 [==============================] - ETA: 0s - loss: 0.1846 - binary_accuracy: 0.9362 - false_negatives_2: 651.0000 - false_positives_2: 625.0000\n",
            "Epoch 00007: val_loss did not improve from 0.34890\n",
            "79/79 [==============================] - 40s 500ms/step - loss: 0.1846 - binary_accuracy: 0.9362 - false_negatives_2: 651.0000 - false_positives_2: 625.0000 - val_loss: 0.5411 - val_binary_accuracy: 0.8138 - val_false_negatives_2: 714.0000 - val_false_positives_2: 217.0000\n",
            "Epoch 00007: early stopping\n",
            "----------------------------------------------------------------------------------------------------\n",
            "Number of zeros incorrectly classified: 332.0, Number of ones incorrectly classified: 427.0\n",
            "Sample ratio for positives: 0.5625823451910409, Sample ratio for negatives:0.43741765480895917\n",
            "Starting training with 24998 samples\n",
            "----------------------------------------------------------------------------------------------------\n",
            "Epoch 1/20\n",
            "98/98 [==============================] - ETA: 0s - loss: 0.3506 - binary_accuracy: 0.8578 - false_negatives_3: 1717.0000 - false_positives_3: 1837.0000\n",
            "Epoch 00001: val_loss did not improve from 0.34890\n",
            "98/98 [==============================] - 58s 515ms/step - loss: 0.3506 - binary_accuracy: 0.8578 - false_negatives_3: 1717.0000 - false_positives_3: 1837.0000 - val_loss: 0.4479 - val_binary_accuracy: 0.8012 - val_false_negatives_3: 97.0000 - val_false_positives_3: 897.0000\n",
            "Epoch 2/20\n",
            "98/98 [==============================] - ETA: 0s - loss: 0.3165 - binary_accuracy: 0.8752 - false_negatives_3: 1448.0000 - false_positives_3: 1672.0000\n",
            "Epoch 00002: val_loss improved from 0.34890 to 0.34109, saving model to AL_Model.h5\n",
            "98/98 [==============================] - 48s 488ms/step - loss: 0.3165 - binary_accuracy: 0.8752 - false_negatives_3: 1448.0000 - false_positives_3: 1672.0000 - val_loss: 0.3411 - val_binary_accuracy: 0.8532 - val_false_negatives_3: 358.0000 - val_false_positives_3: 376.0000\n",
            "Epoch 3/20\n",
            "98/98 [==============================] - ETA: 0s - loss: 0.2951 - binary_accuracy: 0.8865 - false_negatives_3: 1372.0000 - false_positives_3: 1466.0000\n",
            "Epoch 00003: val_loss did not improve from 0.34109\n",
            "98/98 [==============================] - 49s 497ms/step - loss: 0.2951 - binary_accuracy: 0.8865 - false_negatives_3: 1372.0000 - false_positives_3: 1466.0000 - val_loss: 0.3749 - val_binary_accuracy: 0.8422 - val_false_negatives_3: 178.0000 - val_false_positives_3: 611.0000\n",
            "Epoch 4/20\n",
            "98/98 [==============================] - ETA: 0s - loss: 0.2742 - binary_accuracy: 0.8947 - false_negatives_3: 1257.0000 - false_positives_3: 1375.0000\n",
            "Epoch 00004: val_loss did not improve from 0.34109\n",
            "98/98 [==============================] - 49s 495ms/step - loss: 0.2742 - binary_accuracy: 0.8947 - false_negatives_3: 1257.0000 - false_positives_3: 1375.0000 - val_loss: 0.3699 - val_binary_accuracy: 0.8448 - val_false_negatives_3: 509.0000 - val_false_positives_3: 267.0000\n",
            "Epoch 5/20\n",
            "98/98 [==============================] - ETA: 0s - loss: 0.2596 - binary_accuracy: 0.9011 - false_negatives_3: 1219.0000 - false_positives_3: 1253.0000\n",
            "Epoch 00005: val_loss did not improve from 0.34109\n",
            "98/98 [==============================] - 49s 495ms/step - loss: 0.2596 - binary_accuracy: 0.9011 - false_negatives_3: 1219.0000 - false_positives_3: 1253.0000 - val_loss: 0.3660 - val_binary_accuracy: 0.8502 - val_false_negatives_3: 389.0000 - val_false_positives_3: 360.0000\n",
            "Epoch 6/20\n",
            "98/98 [==============================] - ETA: 0s - loss: 0.2414 - binary_accuracy: 0.9114 - false_negatives_3: 1099.0000 - false_positives_3: 1116.0000\n",
            "Epoch 00006: val_loss did not improve from 0.34109\n",
            "98/98 [==============================] - 48s 493ms/step - loss: 0.2414 - binary_accuracy: 0.9114 - false_negatives_3: 1099.0000 - false_positives_3: 1116.0000 - val_loss: 0.3852 - val_binary_accuracy: 0.8434 - val_false_negatives_3: 230.0000 - val_false_positives_3: 553.0000\n",
            "Epoch 00006: early stopping\n",
            "----------------------------------------------------------------------------------------------------\n",
            "Number of zeros incorrectly classified: 363.0, Number of ones incorrectly classified: 365.0\n",
            "Sample ratio for positives: 0.5013736263736264, Sample ratio for negatives:0.49862637362637363\n",
            "Starting training with 29997 samples\n",
            "----------------------------------------------------------------------------------------------------\n",
            "Epoch 1/20\n",
            "118/118 [==============================] - ETA: 0s - loss: 0.3155 - binary_accuracy: 0.8760 - false_negatives_4: 1804.0000 - false_positives_4: 1917.0000\n",
            "Epoch 00001: val_loss did not improve from 0.34109\n",
            "118/118 [==============================] - 69s 519ms/step - loss: 0.3155 - binary_accuracy: 0.8760 - false_negatives_4: 1804.0000 - false_positives_4: 1917.0000 - val_loss: 0.3497 - val_binary_accuracy: 0.8526 - val_false_negatives_4: 424.0000 - val_false_positives_4: 313.0000\n",
            "Epoch 2/20\n",
            "118/118 [==============================] - ETA: 0s - loss: 0.2885 - binary_accuracy: 0.8885 - false_negatives_4: 1607.0000 - false_positives_4: 1738.0000\n",
            "Epoch 00002: val_loss did not improve from 0.34109\n",
            "118/118 [==============================] - 57s 480ms/step - loss: 0.2885 - binary_accuracy: 0.8885 - false_negatives_4: 1607.0000 - false_positives_4: 1738.0000 - val_loss: 0.3665 - val_binary_accuracy: 0.8452 - val_false_negatives_4: 474.0000 - val_false_positives_4: 300.0000\n",
            "Epoch 3/20\n",
            "118/118 [==============================] - ETA: 0s - loss: 0.2712 - binary_accuracy: 0.8963 - false_negatives_4: 1474.0000 - false_positives_4: 1638.0000\n",
            "Epoch 00003: val_loss did not improve from 0.34109\n",
            "118/118 [==============================] - 57s 486ms/step - loss: 0.2712 - binary_accuracy: 0.8963 - false_negatives_4: 1474.0000 - false_positives_4: 1638.0000 - val_loss: 0.3869 - val_binary_accuracy: 0.8450 - val_false_negatives_4: 539.0000 - val_false_positives_4: 236.0000\n",
            "Epoch 4/20\n",
            "118/118 [==============================] - ETA: 0s - loss: 0.2550 - binary_accuracy: 0.9051 - false_negatives_4: 1378.0000 - false_positives_4: 1470.0000\n",
            "Epoch 00004: val_loss did not improve from 0.34109\n",
            "118/118 [==============================] - 57s 484ms/step - loss: 0.2550 - binary_accuracy: 0.9051 - false_negatives_4: 1378.0000 - false_positives_4: 1470.0000 - val_loss: 0.3990 - val_binary_accuracy: 0.8372 - val_false_negatives_4: 185.0000 - val_false_positives_4: 629.0000\n",
            "Epoch 5/20\n",
            "118/118 [==============================] - ETA: 0s - loss: 0.2437 - binary_accuracy: 0.9095 - false_negatives_4: 1295.0000 - false_positives_4: 1420.0000\n",
            "Epoch 00005: val_loss did not improve from 0.34109\n",
            "118/118 [==============================] - 57s 483ms/step - loss: 0.2437 - binary_accuracy: 0.9095 - false_negatives_4: 1295.0000 - false_positives_4: 1420.0000 - val_loss: 0.3541 - val_binary_accuracy: 0.8548 - val_false_negatives_4: 337.0000 - val_false_positives_4: 389.0000\n",
            "Epoch 00005: early stopping\n"
          ]
        },
        {
          "output_type": "display_data",
          "data": {
            "image/png": "[encoded data removed]",
            "text/plain": [
              "<Figure size 432x288 with 1 Axes>"
            ]
          },
          "metadata": {
            "needs_background": "light"
          }
        },
        {
          "output_type": "display_data",
          "data": {
            "image/png": "[encoded data removed]",
            "text/plain": [
              "<Figure size 432x288 with 1 Axes>"
            ]
          },
          "metadata": {
            "needs_background": "light"
          }
        },
        {
          "output_type": "stream",
          "name": "stdout",
          "text": [
            "----------------------------------------------------------------------------------------------------\n",
            "Test set evaluation:  {'loss': 0.34451937675476074, 'binary_accuracy': 0.8543999791145325, 'false_negatives_3': 363.0, 'false_positives_3': 365.0}\n",
            "----------------------------------------------------------------------------------------------------\n"
          ]
        }
      ]
    }
  ]
}